{
 "cells": [
  {
   "cell_type": "code",
   "execution_count": null,
   "metadata": {},
   "outputs": [],
   "source": [
    "#pip install tensorflow\n",
    "#pip install nltk\n",
    "#pip install jason"
   ]
  },
  {
   "cell_type": "code",
   "execution_count": 17,
   "metadata": {},
   "outputs": [],
   "source": [
    "import nltk\n",
    "from nltk.stem.lancaster import LancasterStemmer\n",
    "stemmer = LancasterStemmer()\n",
    "import json\n",
    "import numpy\n",
    "import tensorflow\n",
    "import random\n",
    "import tensorflow as tf\n",
    "from tensorflow import keras\n",
    "import pandas as pd\n",
    "import matplotlib.pyplot as plt\n"
   ]
  },
  {
   "cell_type": "markdown",
   "metadata": {},
   "source": [
    "# (1) Extracting Data"
   ]
  },
  {
   "cell_type": "code",
   "execution_count": 18,
   "metadata": {},
   "outputs": [
    {
     "name": "stdout",
     "output_type": "stream",
     "text": [
      "id    doc_y      <--------  doc_x\n",
      "-----------------------------\n",
      "0 greeting  <---------  ['Hi']\n",
      "1 greeting  <---------  ['How', 'are', 'you']\n",
      "2 greeting  <---------  ['Is', 'anyone', 'there', '?']\n",
      "3 greeting  <---------  ['Hello']\n",
      "4 greeting  <---------  ['Good', 'day']\n",
      "5 goodbye  <---------  ['Bye']\n",
      "6 goodbye  <---------  ['Bye', 'bye']\n",
      "7 goodbye  <---------  ['Bye-Bye']\n",
      "8 goodbye  <---------  ['See', 'you', 'later']\n",
      "9 goodbye  <---------  ['Goodbye']\n",
      "10 thanks  <---------  ['Thanks']\n",
      "11 thanks  <---------  ['Thank', 'you']\n",
      "12 thanks  <---------  ['That', \"'s\", 'helpful']\n",
      "13 hours  <---------  ['What', 'hours', 'are', 'you', 'open', '?']\n",
      "14 hours  <---------  ['What', 'are', 'your', 'hours', '?']\n",
      "15 hours  <---------  ['When', 'are', 'you', 'open', '?']\n",
      "16 payments  <---------  ['Do', 'you', 'take', 'credit', 'cards', '?']\n",
      "17 payments  <---------  ['Do', 'you', 'accept', 'Mastercard', '?']\n",
      "18 payments  <---------  ['Are', 'you', 'cash', 'only', '?']\n",
      "19 opentoday  <---------  ['Are', 'you', 'open', 'today', '?']\n",
      "20 opentoday  <---------  ['When', 'do', 'you', 'open', 'today', '?']\n",
      "21 opentoday  <---------  ['What', 'are', 'your', 'hours', 'today', '?']\n",
      "22 weather  <---------  ['how', 'the', 'weather', 'like', 'today', '?']\n",
      "23 weather  <---------  ['do', 'we', 'have', 'a', 'sunny', 'day', '?']\n",
      "24 weather  <---------  ['do', 'we', 'have', 'a', 'raining', 'today', '?']\n",
      "\n",
      " all words in the documents:\n",
      " ['Hi', 'How', 'are', 'you', 'Is', 'anyone', 'there', '?', 'Hello', 'Good', 'day', 'Bye', 'Bye', 'bye', 'Bye-Bye', 'See', 'you', 'later', 'Goodbye', 'Thanks', 'Thank', 'you', 'That', \"'s\", 'helpful', 'What', 'hours', 'are', 'you', 'open', '?', 'What', 'are', 'your', 'hours', '?', 'When', 'are', 'you', 'open', '?', 'Do', 'you', 'take', 'credit', 'cards', '?', 'Do', 'you', 'accept', 'Mastercard', '?', 'Are', 'you', 'cash', 'only', '?', 'Are', 'you', 'open', 'today', '?', 'When', 'do', 'you', 'open', 'today', '?', 'What', 'are', 'your', 'hours', 'today', '?', 'how', 'the', 'weather', 'like', 'today', '?', 'do', 'we', 'have', 'a', 'sunny', 'day', '?', 'do', 'we', 'have', 'a', 'raining', 'today', '?']\n"
     ]
    }
   ],
   "source": [
    "with open('intents.json') as file:\n",
    "    data = json.load(file)\n",
    "\n",
    "# empty list\n",
    "words = []\n",
    "labels = []\n",
    "docs_x = []\n",
    "docs_y = []\n",
    "\n",
    "for intent in data['intents']:\n",
    "    for pattern in intent['patterns']:         # for each pattern\n",
    "        wrds = nltk.word_tokenize(pattern)     # list of all words ['Is', 'anyone', 'there', '?']\n",
    "        words.extend(wrds)                     # form a whole list of string\n",
    "        docs_x.append(wrds)                    # form a list of list\n",
    "        docs_y.append(intent[\"tag\"])           # store tags: list of tag(string) for each pattern\n",
    "\n",
    "\n",
    "    if intent['tag'] not in labels:    \n",
    "        labels.append(intent['tag'])           # tag set(no repeating)\n",
    "        \n",
    "#print doc_x, doc_y\n",
    "print(\"id    doc_y      <--------  doc_x\")\n",
    "print(\"-----------------------------\")\n",
    "for i in range(len(docs_x)):\n",
    "    print(i, docs_y[i] , \" <--------- \",docs_x[i] )\n",
    "\n",
    "# all words\n",
    "print(\"\\n all words in the documents:\\n\", words)"
   ]
  },
  {
   "cell_type": "markdown",
   "metadata": {},
   "source": [
    "# (2) Word Stemming and Bag of Words\n",
    "i.e. Keep,keeps, keeping, kept, => keep"
   ]
  },
  {
   "cell_type": "code",
   "execution_count": 19,
   "metadata": {},
   "outputs": [
    {
     "name": "stdout",
     "output_type": "stream",
     "text": [
      "Total stem words: 40\n",
      "Bag of  words:\n",
      " ['a', 'acceiv', 'anyon', 'ar', 'bye', 'bye-by', 'card', 'cash', 'credit', 'day', 'do', 'good', 'goodby', 'hav', 'hello', 'help', 'hi', 'hour', 'how', 'is', 'lat', 'lik', 'mastercard', 'on', 'op', 'rain', 'see', 'sunny', 'tak', 'thank', 'that', 'the', 'ther', 'today', 'we', 'wea', 'what', 'when', 'yo', 'you']\n",
      "label: ['goodbye', 'greeting', 'hours', 'opentoday', 'payments', 'thanks', 'weather']\n"
     ]
    }
   ],
   "source": [
    "words = [stemmer.stem(w.lower()) for w in words if (w != \"?\" ) ]\n",
    "words = [stemmer.stem(w.lower()) for w in words if (w != \"'s\" ) ]\n",
    "words = sorted(list(set(words))) # remove the repeated words and put in list for sorting\n",
    "\n",
    "labels = sorted(labels)\n",
    "print(\"Total stem words:\", len(words)) # word list like vocab.\n",
    "print(\"Bag of  words:\\n\", words)\n",
    "print(\"label:\",labels)"
   ]
  },
  {
   "cell_type": "markdown",
   "metadata": {},
   "source": [
    "# (3) Encoding Training data and label"
   ]
  },
  {
   "cell_type": "code",
   "execution_count": 29,
   "metadata": {},
   "outputs": [
    {
     "name": "stdout",
     "output_type": "stream",
     "text": [
      "[1, 1, 1, 1, 1, 0, 0, 0, 0, 0, 5, 5, 5, 2, 2, 2, 4, 4, 4, 3, 3, 3, 6, 6, 6]\n"
     ]
    }
   ],
   "source": [
    "# We have a big of word based on our : 40 stem words, bag size = 40\n",
    "# For each question and find its encoding:  \n",
    "#      for example: hello => [ 0 0 0 ... 0 1  0 0 0 0 ... 0] \n",
    "#  \n",
    "# for all 25 examples ==> X data: 25 x 40 \n",
    "\n",
    "\n",
    "# we have seven categorical labels  [0, 1, 2, ... 5, 6]\n",
    "# For all 25 sentences we have y data\n",
    "#   y: [1, 1, 1, 1, 1, 0, 0, 0, 0, 0, 5, 5, 5, 2, 2, 2, 4, 4, 4, 3, 3, 3, 6, 6, 6]\n",
    "\n",
    "X = []\n",
    "y = []\n",
    "\n",
    "for x, doc in enumerate (docs_x ) : # for all questions (total 25 )\n",
    "                                \n",
    "    bag = []         # finally, it is 40 long wiht some 1 and 0 for each sentence\n",
    "    wrds = [stemmer.stem(w.lower()) for w in doc]   # each word in a question \n",
    "\n",
    "    for w in words:  # scan the stem words one by one\n",
    "        if w in wrds:\n",
    "            bag.append(1)\n",
    "        else:\n",
    "            bag.append(0)\n",
    "    X.append(bag)\n",
    "    y.append( labels.index(docs_y[x]) )   \n",
    "\n",
    "# print(X)\n",
    "print(y)"
   ]
  },
  {
   "cell_type": "code",
   "execution_count": 21,
   "metadata": {},
   "outputs": [],
   "source": [
    "# DNN model\n",
    "\n",
    "len1 = len(X[0])        # input vector length:   40   (input vector size)\n",
    "len2 = len(labels)      # output numbers: 7  (# of labels) \n",
    "\n",
    "model = keras.models.Sequential()\n",
    "model.add(keras.layers.Dense(50, input_dim=len1, activation='relu'))\n",
    "model.add(keras.layers.Dense(100, activation='relu'))\n",
    "model.add(keras.layers.Dense(len2, activation='softmax'))"
   ]
  },
  {
   "cell_type": "code",
   "execution_count": 22,
   "metadata": {},
   "outputs": [],
   "source": [
    "# we need sparse_categorical_crossentropy to match 7 to 1\n",
    "model.compile(loss=\"sparse_categorical_crossentropy\", optimizer=\"RMSprop\", metrics=[\"accuracy\"])"
   ]
  },
  {
   "cell_type": "code",
   "execution_count": 23,
   "metadata": {},
   "outputs": [
    {
     "name": "stdout",
     "output_type": "stream",
     "text": [
      "Train on 25 samples\n",
      "Epoch 1/50\n",
      "25/25 [==============================] - 0s 11ms/sample - loss: 1.9777 - accuracy: 0.0800\n",
      "Epoch 2/50\n",
      "25/25 [==============================] - 0s 278us/sample - loss: 1.9180 - accuracy: 0.1200\n",
      "Epoch 3/50\n",
      "25/25 [==============================] - 0s 279us/sample - loss: 1.8763 - accuracy: 0.2400\n",
      "Epoch 4/50\n",
      "25/25 [==============================] - 0s 239us/sample - loss: 1.8412 - accuracy: 0.3200\n",
      "Epoch 5/50\n",
      "25/25 [==============================] - 0s 279us/sample - loss: 1.8088 - accuracy: 0.4800\n",
      "Epoch 6/50\n",
      "25/25 [==============================] - 0s 199us/sample - loss: 1.7777 - accuracy: 0.5600\n",
      "Epoch 7/50\n",
      "25/25 [==============================] - 0s 279us/sample - loss: 1.7479 - accuracy: 0.6000\n",
      "Epoch 8/50\n",
      "25/25 [==============================] - 0s 239us/sample - loss: 1.7185 - accuracy: 0.7200\n",
      "Epoch 9/50\n",
      "25/25 [==============================] - 0s 319us/sample - loss: 1.6900 - accuracy: 0.7200\n",
      "Epoch 10/50\n",
      "25/25 [==============================] - 0s 239us/sample - loss: 1.6617 - accuracy: 0.7200\n",
      "Epoch 11/50\n",
      "25/25 [==============================] - 0s 319us/sample - loss: 1.6338 - accuracy: 0.7200\n",
      "Epoch 12/50\n",
      "25/25 [==============================] - 0s 239us/sample - loss: 1.6062 - accuracy: 0.7200\n",
      "Epoch 13/50\n",
      "25/25 [==============================] - 0s 318us/sample - loss: 1.5786 - accuracy: 0.7600\n",
      "Epoch 14/50\n",
      "25/25 [==============================] - 0s 199us/sample - loss: 1.5507 - accuracy: 0.8000\n",
      "Epoch 15/50\n",
      "25/25 [==============================] - 0s 319us/sample - loss: 1.5227 - accuracy: 0.8400\n",
      "Epoch 16/50\n",
      "25/25 [==============================] - 0s 238us/sample - loss: 1.4949 - accuracy: 0.8400\n",
      "Epoch 17/50\n",
      "25/25 [==============================] - 0s 239us/sample - loss: 1.4663 - accuracy: 0.8400\n",
      "Epoch 18/50\n",
      "25/25 [==============================] - 0s 319us/sample - loss: 1.4384 - accuracy: 0.8800\n",
      "Epoch 19/50\n",
      "25/25 [==============================] - 0s 239us/sample - loss: 1.4104 - accuracy: 0.8800\n",
      "Epoch 20/50\n",
      "25/25 [==============================] - 0s 279us/sample - loss: 1.3825 - accuracy: 0.8800\n",
      "Epoch 21/50\n",
      "25/25 [==============================] - 0s 319us/sample - loss: 1.3548 - accuracy: 0.8800\n",
      "Epoch 22/50\n",
      "25/25 [==============================] - 0s 279us/sample - loss: 1.3268 - accuracy: 0.8800\n",
      "Epoch 23/50\n",
      "25/25 [==============================] - 0s 278us/sample - loss: 1.2987 - accuracy: 0.8800\n",
      "Epoch 24/50\n",
      "25/25 [==============================] - 0s 239us/sample - loss: 1.2703 - accuracy: 0.8800\n",
      "Epoch 25/50\n",
      "25/25 [==============================] - 0s 279us/sample - loss: 1.2422 - accuracy: 0.8800\n",
      "Epoch 26/50\n",
      "25/25 [==============================] - 0s 279us/sample - loss: 1.2143 - accuracy: 0.9200\n",
      "Epoch 27/50\n",
      "25/25 [==============================] - 0s 239us/sample - loss: 1.1859 - accuracy: 0.9600\n",
      "Epoch 28/50\n",
      "25/25 [==============================] - 0s 279us/sample - loss: 1.1582 - accuracy: 0.9600\n",
      "Epoch 29/50\n",
      "25/25 [==============================] - 0s 279us/sample - loss: 1.1303 - accuracy: 0.9600\n",
      "Epoch 30/50\n",
      "25/25 [==============================] - 0s 279us/sample - loss: 1.1028 - accuracy: 0.9600\n",
      "Epoch 31/50\n",
      "25/25 [==============================] - 0s 238us/sample - loss: 1.0753 - accuracy: 0.9600\n",
      "Epoch 32/50\n",
      "25/25 [==============================] - 0s 319us/sample - loss: 1.0478 - accuracy: 1.0000\n",
      "Epoch 33/50\n",
      "25/25 [==============================] - 0s 279us/sample - loss: 1.0203 - accuracy: 1.0000\n",
      "Epoch 34/50\n",
      "25/25 [==============================] - 0s 279us/sample - loss: 0.9931 - accuracy: 1.0000\n",
      "Epoch 35/50\n",
      "25/25 [==============================] - 0s 239us/sample - loss: 0.9665 - accuracy: 1.0000\n",
      "Epoch 36/50\n",
      "25/25 [==============================] - 0s 319us/sample - loss: 0.9398 - accuracy: 1.0000\n",
      "Epoch 37/50\n",
      "25/25 [==============================] - 0s 279us/sample - loss: 0.9133 - accuracy: 1.0000\n",
      "Epoch 38/50\n",
      "25/25 [==============================] - 0s 280us/sample - loss: 0.8871 - accuracy: 1.0000\n",
      "Epoch 39/50\n",
      "25/25 [==============================] - 0s 279us/sample - loss: 0.8609 - accuracy: 1.0000\n",
      "Epoch 40/50\n",
      "25/25 [==============================] - 0s 319us/sample - loss: 0.8347 - accuracy: 1.0000\n",
      "Epoch 41/50\n",
      "25/25 [==============================] - 0s 239us/sample - loss: 0.8092 - accuracy: 1.0000\n",
      "Epoch 42/50\n",
      "25/25 [==============================] - 0s 359us/sample - loss: 0.7841 - accuracy: 1.0000\n",
      "Epoch 43/50\n",
      "25/25 [==============================] - 0s 279us/sample - loss: 0.7596 - accuracy: 1.0000\n",
      "Epoch 44/50\n",
      "25/25 [==============================] - 0s 279us/sample - loss: 0.7355 - accuracy: 1.0000\n",
      "Epoch 45/50\n",
      "25/25 [==============================] - 0s 239us/sample - loss: 0.7118 - accuracy: 1.0000\n",
      "Epoch 46/50\n",
      "25/25 [==============================] - 0s 279us/sample - loss: 0.6885 - accuracy: 1.0000\n",
      "Epoch 47/50\n",
      "25/25 [==============================] - 0s 239us/sample - loss: 0.6656 - accuracy: 1.0000\n",
      "Epoch 48/50\n",
      "25/25 [==============================] - 0s 359us/sample - loss: 0.6432 - accuracy: 1.0000\n",
      "Epoch 49/50\n",
      "25/25 [==============================] - 0s 239us/sample - loss: 0.6214 - accuracy: 1.0000\n",
      "Epoch 50/50\n",
      "25/25 [==============================] - 0s 399us/sample - loss: 0.5998 - accuracy: 1.0000\n"
     ]
    },
    {
     "data": {
      "image/png": "[encoded data removed]",
      "text/plain": [
       "<Figure size 576x360 with 1 Axes>"
      ]
     },
     "metadata": {
      "needs_background": "light"
     },
     "output_type": "display_data"
    }
   ],
   "source": [
    "#train\n",
    "history = model.fit(X, y, epochs=50, verbose = 1)\n",
    "pd.DataFrame(history.history['accuracy']).plot(figsize=(8, 5), legend = False, title =  \"accuracy\")\n",
    "plt.show()"
   ]
  },
  {
   "cell_type": "code",
   "execution_count": 24,
   "metadata": {},
   "outputs": [],
   "source": [
    "# purpose:  encode a new test input sentence into a vector\n",
    "# input:    s = sentence, words=bag of words\n",
    "# return:   bag = encoded vectore of input sentence s \n",
    "\n",
    "\n",
    "def bag_of_words(s, words):\n",
    "    bag = [0 for _ in range(len(words))]\n",
    "\n",
    "    s_words = nltk.word_tokenize(s)\n",
    "    s_words = [stemmer.stem(word.lower()) for word in s_words]\n",
    "\n",
    "    for se in s_words:\n",
    "        for i, w in enumerate(words):\n",
    "            if w == se:\n",
    "                bag[i] = 1\n",
    "            \n",
    "    return bag\n"
   ]
  },
  {
   "cell_type": "code",
   "execution_count": 26,
   "metadata": {},
   "outputs": [
    {
     "name": "stdout",
     "output_type": "stream",
     "text": [
      "Start type in your question (type quit to stop)!\n",
      "You: Hello how are you\n",
      " -- MACHINE: Hi there, how can I help?\n",
      "You: Do you open today?\n",
      " -- MACHINE: We're open every day from 9am-9pm\n",
      "You: Do you accept Cash?\n",
      " -- MACHINE: We accept VISA, Mastercard and AMEX\n",
      "You: Thanks bye\n",
      " -- MACHINE: bye\n",
      "You: quit\n"
     ]
    }
   ],
   "source": [
    "# driver\n",
    "def chat():\n",
    "    print(\"Start type in your question (type quit to stop)!\")\n",
    "    while True:\n",
    "        inp = input(\"You: \")\n",
    "        if inp.lower() == \"quit\":\n",
    "            break\n",
    "\n",
    "        results_index = model.predict_classes([bag_of_words(inp, words)] )\n",
    "        tag_caller = labels[results_index[0]]\n",
    "\n",
    "        found = False\n",
    "        for tg in data[\"intents\"]:\n",
    "            if tg['tag'] == tag_caller:\n",
    "                responses = tg['responses']\n",
    "                print(\" -- MACHINE:\", random.choice(responses))\n",
    "                found = True\n",
    "                break\n",
    "        if(not(found)):\n",
    "            print(\" -- MACHINE: not sure what you mean. Try again\")\n",
    "            \n",
    "\n",
    "if __name__ == \"__main__\":\n",
    "    chat()"
   ]
  },
  {
   "cell_type": "markdown",
   "metadata": {},
   "source": [
    "# REF\n",
    "\n",
    "https:\n",
    "https://techwithtim.net/tutorials/ai-chatbot/part-1/\n",
    "\n",
    "vid 1-4\n",
    "https://www.youtube.com/watch?v=wypVcNIH6D4\n",
    "\n",
    "vid 5\n",
    "https://www.youtube.com/watch?v=jBXAi-Vm_-g \n",
    "\n",
    "  "
   ]
  },
  {
   "cell_type": "code",
   "execution_count": 27,
   "metadata": {},
   "outputs": [],
   "source": [
    "# end"
   ]
  }
 ],
 "metadata": {
  "kernelspec": {
   "display_name": "Python 3",
   "language": "python",
   "name": "python3"
  },
  "language_info": {
   "codemirror_mode": {
    "name": "ipython",
    "version": 3
   },
   "file_extension": ".py",
   "mimetype": "text/x-python",
   "name": "python",
   "nbconvert_exporter": "python",
   "pygments_lexer": "ipython3",
   "version": "3.7.7"
  }
 },
 "nbformat": 4,
 "nbformat_minor": 2
}
