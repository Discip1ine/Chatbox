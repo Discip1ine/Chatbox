{
 "cells": [
  {
   "cell_type": "markdown",
   "metadata": {},
   "source": [
    "# (A) Speech -> text -> To a local file \n",
    "Speech to text using Google SpeechRecognition  recognizer\n"
   ]
  },
  {
   "cell_type": "code",
   "execution_count": 1,
   "metadata": {},
   "outputs": [
    {
     "name": "stdout",
     "output_type": "stream",
     "text": [
      "Collecting SpeechRecognitionNote: you may need to restart the kernel to use updated packages.\n",
      "  Downloading SpeechRecognition-3.8.1-py2.py3-none-any.whl (32.8 MB)\n",
      "Installing collected packages: SpeechRecognition\n",
      "Successfully installed SpeechRecognition-3.8.1\n",
      "\n"
     ]
    }
   ],
   "source": [
    "pip install SpeechRecognition "
   ]
  },
  {
   "cell_type": "code",
   "execution_count": 2,
   "metadata": {},
   "outputs": [
    {
     "name": "stdout",
     "output_type": "stream",
     "text": [
      "Collecting Pillow\n",
      "  Downloading Pillow-7.1.2-cp37-cp37m-win_amd64.whl (2.0 MB)\n",
      "Installing collected packages: Pillow\n",
      "Successfully installed Pillow-7.1.2\n",
      "Note: you may need to restart the kernel to use updated packages.\n"
     ]
    }
   ],
   "source": [
    "pip install Pillow"
   ]
  },
  {
   "cell_type": "code",
   "execution_count": 19,
   "metadata": {},
   "outputs": [
    {
     "name": "stdout",
     "output_type": "stream",
     "text": [
      "Collecting Pyaudio\n",
      "  Downloading PyAudio-0.2.11.tar.gz (37 kB)\n",
      "Building wheels for collected packages: Pyaudio\n",
      "  Building wheel for Pyaudio (setup.py): startedNote: you may need to restart the kernel to use updated packages.\n"
     ]
    },
    {
     "name": "stderr",
     "output_type": "stream",
     "text": [
      "  ERROR: Command errored out with exit status 1:\n",
      "   command: 'C:\\Users\\lukel\\AppData\\Local\\Continuum\\anaconda3\\envs\\DAandDevHW3Chatbox\\python.exe' -u -c 'import sys, setuptools, tokenize; sys.argv[0] = '\"'\"'C:\\\\Users\\\\lukel\\\\AppData\\\\Local\\\\Temp\\\\pip-install-22g29sks\\\\Pyaudio\\\\setup.py'\"'\"'; __file__='\"'\"'C:\\\\Users\\\\lukel\\\\AppData\\\\Local\\\\Temp\\\\pip-install-22g29sks\\\\Pyaudio\\\\setup.py'\"'\"';f=getattr(tokenize, '\"'\"'open'\"'\"', open)(__file__);code=f.read().replace('\"'\"'\\r\\n'\"'\"', '\"'\"'\\n'\"'\"');f.close();exec(compile(code, __file__, '\"'\"'exec'\"'\"'))' bdist_wheel -d 'C:\\Users\\lukel\\AppData\\Local\\Temp\\pip-wheel-3mbfuk98'\n",
      "       cwd: C:\\Users\\lukel\\AppData\\Local\\Temp\\pip-install-22g29sks\\Pyaudio\\\n",
      "  Complete output (17 lines):\n",
      "  running bdist_wheel\n",
      "  running build\n",
      "  running build_py\n",
      "  creating build\n",
      "  creating build\\lib.win-amd64-3.7\n",
      "  copying src\\pyaudio.py -> build\\lib.win-amd64-3.7\n",
      "  running build_ext\n",
      "  building '_portaudio' extension\n"
     ]
    },
    {
     "name": "stdout",
     "output_type": "stream",
     "text": [
      "\n",
      "  Building wheel for Pyaudio (setup.py): finished with status 'error'\n",
      "  Running setup.py clean for Pyaudio\n",
      "Failed to build Pyaudio\n",
      "Installing collected packages: Pyaudio\n",
      "    Running setup.py install for Pyaudio: started\n",
      "    Running setup.py install for Pyaudio: finished with status 'error'\n"
     ]
    },
    {
     "name": "stderr",
     "output_type": "stream",
     "text": [
      "  creating build\\temp.win-amd64-3.7\n",
      "  creating build\\temp.win-amd64-3.7\\Release\n",
      "  creating build\\temp.win-amd64-3.7\\Release\\src\n",
      "  C:\\Program Files (x86)\\Microsoft Visual Studio\\2019\\Community\\VC\\Tools\\MSVC\\14.25.28610\\bin\\HostX86\\x64\\cl.exe /c /nologo /Ox /W3 /GL /DNDEBUG /MD -DMS_WIN64=1 -IC:\\Users\\lukel\\AppData\\Local\\Continuum\\anaconda3\\envs\\DAandDevHW3Chatbox\\include -IC:\\Users\\lukel\\AppData\\Local\\Continuum\\anaconda3\\envs\\DAandDevHW3Chatbox\\include \"-IC:\\Program Files (x86)\\Microsoft Visual Studio\\2019\\Community\\VC\\Tools\\MSVC\\14.25.28610\\ATLMFC\\include\" \"-IC:\\Program Files (x86)\\Microsoft Visual Studio\\2019\\Community\\VC\\Tools\\MSVC\\14.25.28610\\include\" \"-IC:\\Program Files (x86)\\Windows Kits\\10\\include\\10.0.18362.0\\ucrt\" \"-IC:\\Program Files (x86)\\Windows Kits\\10\\include\\10.0.18362.0\\shared\" \"-IC:\\Program Files (x86)\\Windows Kits\\10\\include\\10.0.18362.0\\um\" \"-IC:\\Program Files (x86)\\Windows Kits\\10\\include\\10.0.18362.0\\winrt\" \"-IC:\\Program Files (x86)\\Windows Kits\\10\\include\\10.0.18362.0\\cppwinrt\" /Tcsrc/_portaudiomodule.c /Fobuild\\temp.win-amd64-3.7\\Release\\src/_portaudiomodule.obj\n",
      "  _portaudiomodule.c\n",
      "  C:\\Users\\lukel\\AppData\\Local\\Continuum\\anaconda3\\envs\\DAandDevHW3Chatbox\\include\\pyconfig.h(117): warning C4005: 'MS_WIN64': macro redefinition\n",
      "  src/_portaudiomodule.c: note: see previous definition of 'MS_WIN64'\n",
      "  src/_portaudiomodule.c(29): fatal error C1083: Cannot open include file: 'portaudio.h': No such file or directory\n",
      "  error: command 'C:\\\\Program Files (x86)\\\\Microsoft Visual Studio\\\\2019\\\\Community\\\\VC\\\\Tools\\\\MSVC\\\\14.25.28610\\\\bin\\\\HostX86\\\\x64\\\\cl.exe' failed with exit status 2\n",
      "  ----------------------------------------\n",
      "  ERROR: Failed building wheel for Pyaudio\n",
      "    ERROR: Command errored out with exit status 1:\n",
      "     command: 'C:\\Users\\lukel\\AppData\\Local\\Continuum\\anaconda3\\envs\\DAandDevHW3Chatbox\\python.exe' -u -c 'import sys, setuptools, tokenize; sys.argv[0] = '\"'\"'C:\\\\Users\\\\lukel\\\\AppData\\\\Local\\\\Temp\\\\pip-install-22g29sks\\\\Pyaudio\\\\setup.py'\"'\"'; __file__='\"'\"'C:\\\\Users\\\\lukel\\\\AppData\\\\Local\\\\Temp\\\\pip-install-22g29sks\\\\Pyaudio\\\\setup.py'\"'\"';f=getattr(tokenize, '\"'\"'open'\"'\"', open)(__file__);code=f.read().replace('\"'\"'\\r\\n'\"'\"', '\"'\"'\\n'\"'\"');f.close();exec(compile(code, __file__, '\"'\"'exec'\"'\"'))' install --record 'C:\\Users\\lukel\\AppData\\Local\\Temp\\pip-record-_hh2qh76\\install-record.txt' --single-version-externally-managed --compile --install-headers 'C:\\Users\\lukel\\AppData\\Local\\Continuum\\anaconda3\\envs\\DAandDevHW3Chatbox\\Include\\Pyaudio'\n",
      "         cwd: C:\\Users\\lukel\\AppData\\Local\\Temp\\pip-install-22g29sks\\Pyaudio\\\n",
      "    Complete output (17 lines):\n",
      "    running install\n",
      "    running build\n",
      "    running build_py\n",
      "    creating build\n",
      "    creating build\\lib.win-amd64-3.7\n",
      "    copying src\\pyaudio.py -> build\\lib.win-amd64-3.7\n",
      "    running build_ext\n",
      "    building '_portaudio' extension\n",
      "    creating build\\temp.win-amd64-3.7\n",
      "    creating build\\temp.win-amd64-3.7\\Release\n",
      "    creating build\\temp.win-amd64-3.7\\Release\\src\n",
      "    C:\\Program Files (x86)\\Microsoft Visual Studio\\2019\\Community\\VC\\Tools\\MSVC\\14.25.28610\\bin\\HostX86\\x64\\cl.exe /c /nologo /Ox /W3 /GL /DNDEBUG /MD -DMS_WIN64=1 -IC:\\Users\\lukel\\AppData\\Local\\Continuum\\anaconda3\\envs\\DAandDevHW3Chatbox\\include -IC:\\Users\\lukel\\AppData\\Local\\Continuum\\anaconda3\\envs\\DAandDevHW3Chatbox\\include \"-IC:\\Program Files (x86)\\Microsoft Visual Studio\\2019\\Community\\VC\\Tools\\MSVC\\14.25.28610\\ATLMFC\\include\" \"-IC:\\Program Files (x86)\\Microsoft Visual Studio\\2019\\Community\\VC\\Tools\\MSVC\\14.25.28610\\include\" \"-IC:\\Program Files (x86)\\Windows Kits\\10\\include\\10.0.18362.0\\ucrt\" \"-IC:\\Program Files (x86)\\Windows Kits\\10\\include\\10.0.18362.0\\shared\" \"-IC:\\Program Files (x86)\\Windows Kits\\10\\include\\10.0.18362.0\\um\" \"-IC:\\Program Files (x86)\\Windows Kits\\10\\include\\10.0.18362.0\\winrt\" \"-IC:\\Program Files (x86)\\Windows Kits\\10\\include\\10.0.18362.0\\cppwinrt\" /Tcsrc/_portaudiomodule.c /Fobuild\\temp.win-amd64-3.7\\Release\\src/_portaudiomodule.obj\n",
      "    _portaudiomodule.c\n",
      "    C:\\Users\\lukel\\AppData\\Local\\Continuum\\anaconda3\\envs\\DAandDevHW3Chatbox\\include\\pyconfig.h(117): warning C4005: 'MS_WIN64': macro redefinition\n",
      "    src/_portaudiomodule.c: note: see previous definition of 'MS_WIN64'\n",
      "    src/_portaudiomodule.c(29): fatal error C1083: Cannot open include file: 'portaudio.h': No such file or directory\n",
      "    error: command 'C:\\\\Program Files (x86)\\\\Microsoft Visual Studio\\\\2019\\\\Community\\\\VC\\\\Tools\\\\MSVC\\\\14.25.28610\\\\bin\\\\HostX86\\\\x64\\\\cl.exe' failed with exit status 2\n",
      "    ----------------------------------------\n",
      "ERROR: Command errored out with exit status 1: 'C:\\Users\\lukel\\AppData\\Local\\Continuum\\anaconda3\\envs\\DAandDevHW3Chatbox\\python.exe' -u -c 'import sys, setuptools, tokenize; sys.argv[0] = '\"'\"'C:\\\\Users\\\\lukel\\\\AppData\\\\Local\\\\Temp\\\\pip-install-22g29sks\\\\Pyaudio\\\\setup.py'\"'\"'; __file__='\"'\"'C:\\\\Users\\\\lukel\\\\AppData\\\\Local\\\\Temp\\\\pip-install-22g29sks\\\\Pyaudio\\\\setup.py'\"'\"';f=getattr(tokenize, '\"'\"'open'\"'\"', open)(__file__);code=f.read().replace('\"'\"'\\r\\n'\"'\"', '\"'\"'\\n'\"'\"');f.close();exec(compile(code, __file__, '\"'\"'exec'\"'\"'))' install --record 'C:\\Users\\lukel\\AppData\\Local\\Temp\\pip-record-_hh2qh76\\install-record.txt' --single-version-externally-managed --compile --install-headers 'C:\\Users\\lukel\\AppData\\Local\\Continuum\\anaconda3\\envs\\DAandDevHW3Chatbox\\Include\\Pyaudio' Check the logs for full command output.\n"
     ]
    }
   ],
   "source": [
    "pip install Pyaudio"
   ]
  },
  {
   "cell_type": "code",
   "execution_count": 20,
   "metadata": {},
   "outputs": [
    {
     "name": "stdout",
     "output_type": "stream",
     "text": [
      "Collecting pyaudio\n",
      "  Using cached PyAudio-0.2.11.tar.gz (37 kB)\n",
      "Building wheels for collected packages: pyaudio\n",
      "  Building wheel for pyaudio (setup.py): started\n",
      "  Building wheel for pyaudio (setup.py): finished with status 'error'\n",
      "  Running setup.py clean for pyaudio\n",
      "Failed to build pyaudio\n",
      "Installing collected packages: pyaudio\n",
      "    Running setup.py install for pyaudio: started\n",
      "    Running setup.py install for pyaudio: finished with status 'error'\n",
      "Note: you may need to restart the kernel to use updated packages.\n"
     ]
    },
    {
     "name": "stderr",
     "output_type": "stream",
     "text": [
      "  ERROR: Command errored out with exit status 1:\n",
      "   command: 'C:\\Users\\lukel\\AppData\\Local\\Continuum\\anaconda3\\envs\\DAandDevHW3Chatbox\\python.exe' -u -c 'import sys, setuptools, tokenize; sys.argv[0] = '\"'\"'C:\\\\Users\\\\lukel\\\\AppData\\\\Local\\\\Temp\\\\pip-install-lirnj2md\\\\pyaudio\\\\setup.py'\"'\"'; __file__='\"'\"'C:\\\\Users\\\\lukel\\\\AppData\\\\Local\\\\Temp\\\\pip-install-lirnj2md\\\\pyaudio\\\\setup.py'\"'\"';f=getattr(tokenize, '\"'\"'open'\"'\"', open)(__file__);code=f.read().replace('\"'\"'\\r\\n'\"'\"', '\"'\"'\\n'\"'\"');f.close();exec(compile(code, __file__, '\"'\"'exec'\"'\"'))' bdist_wheel -d 'C:\\Users\\lukel\\AppData\\Local\\Temp\\pip-wheel-fbqb0uqm'\n",
      "       cwd: C:\\Users\\lukel\\AppData\\Local\\Temp\\pip-install-lirnj2md\\pyaudio\\\n",
      "  Complete output (17 lines):\n",
      "  running bdist_wheel\n",
      "  running build\n",
      "  running build_py\n",
      "  creating build\n",
      "  creating build\\lib.win-amd64-3.7\n",
      "  copying src\\pyaudio.py -> build\\lib.win-amd64-3.7\n",
      "  running build_ext\n",
      "  building '_portaudio' extension\n",
      "  creating build\\temp.win-amd64-3.7\n",
      "  creating build\\temp.win-amd64-3.7\\Release\n",
      "  creating build\\temp.win-amd64-3.7\\Release\\src\n",
      "  C:\\Program Files (x86)\\Microsoft Visual Studio\\2019\\Community\\VC\\Tools\\MSVC\\14.25.28610\\bin\\HostX86\\x64\\cl.exe /c /nologo /Ox /W3 /GL /DNDEBUG /MD -DMS_WIN64=1 -IC:\\Users\\lukel\\AppData\\Local\\Continuum\\anaconda3\\envs\\DAandDevHW3Chatbox\\include -IC:\\Users\\lukel\\AppData\\Local\\Continuum\\anaconda3\\envs\\DAandDevHW3Chatbox\\include \"-IC:\\Program Files (x86)\\Microsoft Visual Studio\\2019\\Community\\VC\\Tools\\MSVC\\14.25.28610\\ATLMFC\\include\" \"-IC:\\Program Files (x86)\\Microsoft Visual Studio\\2019\\Community\\VC\\Tools\\MSVC\\14.25.28610\\include\" \"-IC:\\Program Files (x86)\\Windows Kits\\10\\include\\10.0.18362.0\\ucrt\" \"-IC:\\Program Files (x86)\\Windows Kits\\10\\include\\10.0.18362.0\\shared\" \"-IC:\\Program Files (x86)\\Windows Kits\\10\\include\\10.0.18362.0\\um\" \"-IC:\\Program Files (x86)\\Windows Kits\\10\\include\\10.0.18362.0\\winrt\" \"-IC:\\Program Files (x86)\\Windows Kits\\10\\include\\10.0.18362.0\\cppwinrt\" /Tcsrc/_portaudiomodule.c /Fobuild\\temp.win-amd64-3.7\\Release\\src/_portaudiomodule.obj\n",
      "  _portaudiomodule.c\n",
      "  C:\\Users\\lukel\\AppData\\Local\\Continuum\\anaconda3\\envs\\DAandDevHW3Chatbox\\include\\pyconfig.h(117): warning C4005: 'MS_WIN64': macro redefinition\n",
      "  src/_portaudiomodule.c: note: see previous definition of 'MS_WIN64'\n",
      "  src/_portaudiomodule.c(29): fatal error C1083: Cannot open include file: 'portaudio.h': No such file or directory\n",
      "  error: command 'C:\\\\Program Files (x86)\\\\Microsoft Visual Studio\\\\2019\\\\Community\\\\VC\\\\Tools\\\\MSVC\\\\14.25.28610\\\\bin\\\\HostX86\\\\x64\\\\cl.exe' failed with exit status 2\n",
      "  ----------------------------------------\n",
      "  ERROR: Failed building wheel for pyaudio\n",
      "    ERROR: Command errored out with exit status 1:\n",
      "     command: 'C:\\Users\\lukel\\AppData\\Local\\Continuum\\anaconda3\\envs\\DAandDevHW3Chatbox\\python.exe' -u -c 'import sys, setuptools, tokenize; sys.argv[0] = '\"'\"'C:\\\\Users\\\\lukel\\\\AppData\\\\Local\\\\Temp\\\\pip-install-lirnj2md\\\\pyaudio\\\\setup.py'\"'\"'; __file__='\"'\"'C:\\\\Users\\\\lukel\\\\AppData\\\\Local\\\\Temp\\\\pip-install-lirnj2md\\\\pyaudio\\\\setup.py'\"'\"';f=getattr(tokenize, '\"'\"'open'\"'\"', open)(__file__);code=f.read().replace('\"'\"'\\r\\n'\"'\"', '\"'\"'\\n'\"'\"');f.close();exec(compile(code, __file__, '\"'\"'exec'\"'\"'))' install --record 'C:\\Users\\lukel\\AppData\\Local\\Temp\\pip-record-m177n67c\\install-record.txt' --single-version-externally-managed --compile --install-headers 'C:\\Users\\lukel\\AppData\\Local\\Continuum\\anaconda3\\envs\\DAandDevHW3Chatbox\\Include\\pyaudio'\n",
      "         cwd: C:\\Users\\lukel\\AppData\\Local\\Temp\\pip-install-lirnj2md\\pyaudio\\\n",
      "    Complete output (17 lines):\n",
      "    running install\n",
      "    running build\n",
      "    running build_py\n",
      "    creating build\n",
      "    creating build\\lib.win-amd64-3.7\n",
      "    copying src\\pyaudio.py -> build\\lib.win-amd64-3.7\n",
      "    running build_ext\n",
      "    building '_portaudio' extension\n",
      "    creating build\\temp.win-amd64-3.7\n",
      "    creating build\\temp.win-amd64-3.7\\Release\n",
      "    creating build\\temp.win-amd64-3.7\\Release\\src\n",
      "    C:\\Program Files (x86)\\Microsoft Visual Studio\\2019\\Community\\VC\\Tools\\MSVC\\14.25.28610\\bin\\HostX86\\x64\\cl.exe /c /nologo /Ox /W3 /GL /DNDEBUG /MD -DMS_WIN64=1 -IC:\\Users\\lukel\\AppData\\Local\\Continuum\\anaconda3\\envs\\DAandDevHW3Chatbox\\include -IC:\\Users\\lukel\\AppData\\Local\\Continuum\\anaconda3\\envs\\DAandDevHW3Chatbox\\include \"-IC:\\Program Files (x86)\\Microsoft Visual Studio\\2019\\Community\\VC\\Tools\\MSVC\\14.25.28610\\ATLMFC\\include\" \"-IC:\\Program Files (x86)\\Microsoft Visual Studio\\2019\\Community\\VC\\Tools\\MSVC\\14.25.28610\\include\" \"-IC:\\Program Files (x86)\\Windows Kits\\10\\include\\10.0.18362.0\\ucrt\" \"-IC:\\Program Files (x86)\\Windows Kits\\10\\include\\10.0.18362.0\\shared\" \"-IC:\\Program Files (x86)\\Windows Kits\\10\\include\\10.0.18362.0\\um\" \"-IC:\\Program Files (x86)\\Windows Kits\\10\\include\\10.0.18362.0\\winrt\" \"-IC:\\Program Files (x86)\\Windows Kits\\10\\include\\10.0.18362.0\\cppwinrt\" /Tcsrc/_portaudiomodule.c /Fobuild\\temp.win-amd64-3.7\\Release\\src/_portaudiomodule.obj\n",
      "    _portaudiomodule.c\n",
      "    C:\\Users\\lukel\\AppData\\Local\\Continuum\\anaconda3\\envs\\DAandDevHW3Chatbox\\include\\pyconfig.h(117): warning C4005: 'MS_WIN64': macro redefinition\n",
      "    src/_portaudiomodule.c: note: see previous definition of 'MS_WIN64'\n",
      "    src/_portaudiomodule.c(29): fatal error C1083: Cannot open include file: 'portaudio.h': No such file or directory\n",
      "    error: command 'C:\\\\Program Files (x86)\\\\Microsoft Visual Studio\\\\2019\\\\Community\\\\VC\\\\Tools\\\\MSVC\\\\14.25.28610\\\\bin\\\\HostX86\\\\x64\\\\cl.exe' failed with exit status 2\n",
      "    ----------------------------------------\n",
      "ERROR: Command errored out with exit status 1: 'C:\\Users\\lukel\\AppData\\Local\\Continuum\\anaconda3\\envs\\DAandDevHW3Chatbox\\python.exe' -u -c 'import sys, setuptools, tokenize; sys.argv[0] = '\"'\"'C:\\\\Users\\\\lukel\\\\AppData\\\\Local\\\\Temp\\\\pip-install-lirnj2md\\\\pyaudio\\\\setup.py'\"'\"'; __file__='\"'\"'C:\\\\Users\\\\lukel\\\\AppData\\\\Local\\\\Temp\\\\pip-install-lirnj2md\\\\pyaudio\\\\setup.py'\"'\"';f=getattr(tokenize, '\"'\"'open'\"'\"', open)(__file__);code=f.read().replace('\"'\"'\\r\\n'\"'\"', '\"'\"'\\n'\"'\"');f.close();exec(compile(code, __file__, '\"'\"'exec'\"'\"'))' install --record 'C:\\Users\\lukel\\AppData\\Local\\Temp\\pip-record-m177n67c\\install-record.txt' --single-version-externally-managed --compile --install-headers 'C:\\Users\\lukel\\AppData\\Local\\Continuum\\anaconda3\\envs\\DAandDevHW3Chatbox\\Include\\pyaudio' Check the logs for full command output.\n"
     ]
    }
   ],
   "source": [
    "pip install pyaudio"
   ]
  },
  {
   "cell_type": "code",
   "execution_count": 22,
   "metadata": {},
   "outputs": [
    {
     "name": "stdout",
     "output_type": "stream",
     "text": [
      "Processing c:\\users\\lukel\\onedrive\\desktop\\data analytics and development\\hwchatbox\\pyaudio-0.2.11-cp37-cp37m-win_amd64.whl\n",
      "Installing collected packages: PyAudio\n",
      "Successfully installed PyAudio-0.2.11Note: you may need to restart the kernel to use updated packages.\n",
      "\n"
     ]
    }
   ],
   "source": [
    "pip install PyAudio-0.2.11-cp37-cp37m-win_amd64.whl"
   ]
  },
  {
   "cell_type": "code",
   "execution_count": 57,
   "metadata": {},
   "outputs": [
    {
     "data": {
      "image/png": "[encoded data removed]",
      "text/plain": [
       "<PIL.JpegImagePlugin.JpegImageFile image mode=RGB size=280x280 at 0x207950321C8>"
      ]
     },
     "metadata": {},
     "output_type": "display_data"
    },
    {
     "name": "stdout",
     "output_type": "stream",
     "text": [
      "I am listening, please speak anything: ^_^ >>: \n",
      "You said:\n",
      "hello\n",
      "-----\n",
      "Your talk was saved in the end of log.txt\n"
     ]
    }
   ],
   "source": [
    "from PIL import Image\n",
    "img  = Image.open(\"mic.jpg\") \n",
    "display(img)\n",
    "\n",
    "import speech_recognition as sr\n",
    "r = sr.Recognizer()\n",
    "\n",
    "with sr.Microphone() as source:\n",
    "    print(\"I am listening, please speak anything: ^_^ >>: \")\n",
    "    audio = r.listen(source)\n",
    "    \n",
    "    try:\n",
    "        text =r.recognize_google(audio)\n",
    "        #text =r.recognize_bing(audio)\n",
    "        print(\"You said:\\n{}\".format(text))\n",
    "    \n",
    "    except:\n",
    "        print(\"Sorry, could not recognize your voice\")\n",
    "        \n",
    "    finally:\n",
    "        log_file = open(\"log.txt\", \"w\")\n",
    "        log_file.write(text)\n",
    "        length = len(text)\n",
    "        log_file.write(\"\\n\")\n",
    "        log_file.close()\n",
    "        print(\"-\"*length)\n",
    "        print(\"Your talk was saved in the end of log.txt\")"
   ]
  },
  {
   "cell_type": "markdown",
   "metadata": {},
   "source": [
    "# end of speech to text"
   ]
  },
  {
   "cell_type": "markdown",
   "metadata": {},
   "source": [
    "### REF:\n",
    "#https://www.youtube.com/watch?v=K_WbsFrPUCk&list=WL&index=48&t=76s\n",
    "#https://www.geeksforgeeks.org/speech-recognition-in-python-using-google-speech-api/"
   ]
  },
  {
   "cell_type": "markdown",
   "metadata": {},
   "source": [
    "# Text-ML-text"
   ]
  },
  {
   "cell_type": "code",
   "execution_count": 24,
   "metadata": {},
   "outputs": [
    {
     "name": "stdout",
     "output_type": "stream",
     "text": [
      "Collecting tensorflow\n",
      "  Using cached tensorflow-2.1.0-cp37-cp37m-win_amd64.whl (355.8 MB)\n",
      "Requirement already satisfied: six>=1.12.0 in c:\\users\\lukel\\appdata\\local\\continuum\\anaconda3\\envs\\daanddevhw3chatbox\\lib\\site-packages (from tensorflow) (1.14.0)\n",
      "Collecting grpcio>=1.8.6\n",
      "  Using cached grpcio-1.28.1-cp37-cp37m-win_amd64.whl (2.0 MB)\n",
      "Processing c:\\users\\lukel\\appdata\\local\\pip\\cache\\wheels\\cc\\af\\1a\\498a24d0730ef484019e007bb9e8cef3ac00311a672c049a3e\\absl_py-0.9.0-py3-none-any.whl\n",
      "Requirement already satisfied: wheel>=0.26; python_version >= \"3\" in c:\\users\\lukel\\appdata\\local\\continuum\\anaconda3\\envs\\daanddevhw3chatbox\\lib\\site-packages (from tensorflow) (0.34.2)\n",
      "Collecting astor>=0.6.0\n",
      "  Using cached astor-0.8.1-py2.py3-none-any.whl (27 kB)\n",
      "Processing c:\\users\\lukel\\appdata\\local\\pip\\cache\\wheels\\21\\7f\\02\\420f32a803f7d0967b48dd823da3f558c5166991bfd204eef3\\gast-0.2.2-py3-none-any.whl\n",
      "Collecting keras-applications>=1.0.8\n",
      "  Using cached Keras_Applications-1.0.8-py3-none-any.whl (50 kB)\n",
      "Collecting keras-preprocessing>=1.1.0\n",
      "  Using cached Keras_Preprocessing-1.1.0-py2.py3-none-any.whl (41 kB)\n",
      "Collecting tensorflow-estimator<2.2.0,>=2.1.0rc0\n",
      "  Using cached tensorflow_estimator-2.1.0-py2.py3-none-any.whl (448 kB)\n",
      "Processing c:\\users\\lukel\\appdata\\local\\pip\\cache\\wheels\\62\\76\\4c\\aa25851149f3f6d9785f6c869387ad82b3fd37582fa8147ac6\\wrapt-1.12.1-cp37-cp37m-win_amd64.whl\n",
      "Collecting google-pasta>=0.1.6\n",
      "  Using cached google_pasta-0.2.0-py3-none-any.whl (57 kB)\n",
      "Collecting opt-einsum>=2.3.2\n",
      "  Using cached opt_einsum-3.2.1-py3-none-any.whl (63 kB)\n",
      "Processing c:\\users\\lukel\\appdata\\local\\pip\\cache\\wheels\\3f\\e3\\ec\\8a8336ff196023622fbcb36de0c5a5c218cbb24111d1d4c7f2\\termcolor-1.1.0-py3-none-any.whl\n",
      "Collecting tensorboard<2.2.0,>=2.1.0\n",
      "  Using cached tensorboard-2.1.1-py3-none-any.whl (3.8 MB)\n",
      "Collecting numpy<2.0,>=1.16.0\n",
      "  Using cached numpy-1.18.3-cp37-cp37m-win_amd64.whl (12.8 MB)\n",
      "Collecting protobuf>=3.8.0\n",
      "  Using cached protobuf-3.11.3-cp37-cp37m-win_amd64.whl (1.0 MB)\n",
      "Collecting scipy==1.4.1; python_version >= \"3\"\n",
      "  Using cached scipy-1.4.1-cp37-cp37m-win_amd64.whl (30.9 MB)\n",
      "Collecting h5py\n",
      "  Using cached h5py-2.10.0-cp37-cp37m-win_amd64.whl (2.5 MB)\n",
      "Collecting google-auth<2,>=1.6.3\n",
      "  Using cached google_auth-1.14.1-py2.py3-none-any.whl (89 kB)\n",
      "Collecting markdown>=2.6.8\n",
      "  Using cached Markdown-3.2.1-py2.py3-none-any.whl (88 kB)\n",
      "Collecting requests<3,>=2.21.0\n",
      "  Using cached requests-2.23.0-py2.py3-none-any.whl (58 kB)\n",
      "Requirement already satisfied: setuptools>=41.0.0 in c:\\users\\lukel\\appdata\\local\\continuum\\anaconda3\\envs\\daanddevhw3chatbox\\lib\\site-packages (from tensorboard<2.2.0,>=2.1.0->tensorflow) (46.1.3.post20200330)\n",
      "Collecting werkzeug>=0.11.15\n",
      "  Using cached Werkzeug-1.0.1-py2.py3-none-any.whl (298 kB)\n",
      "Collecting google-auth-oauthlib<0.5,>=0.4.1\n",
      "  Using cached google_auth_oauthlib-0.4.1-py2.py3-none-any.whl (18 kB)\n",
      "Collecting rsa<4.1,>=3.1.4\n",
      "  Using cached rsa-4.0-py2.py3-none-any.whl (38 kB)\n",
      "Collecting pyasn1-modules>=0.2.1\n",
      "  Using cached pyasn1_modules-0.2.8-py2.py3-none-any.whl (155 kB)\n",
      "Collecting cachetools<5.0,>=2.0.0\n",
      "  Using cached cachetools-4.1.0-py3-none-any.whl (10 kB)\n",
      "Collecting idna<3,>=2.5\n",
      "  Using cached idna-2.9-py2.py3-none-any.whl (58 kB)\n",
      "Collecting urllib3!=1.25.0,!=1.25.1,<1.26,>=1.21.1\n",
      "  Using cached urllib3-1.25.9-py2.py3-none-any.whl (126 kB)\n",
      "Collecting chardet<4,>=3.0.2\n",
      "  Using cached chardet-3.0.4-py2.py3-none-any.whl (133 kB)\n",
      "Requirement already satisfied: certifi>=2017.4.17 in c:\\users\\lukel\\appdata\\local\\continuum\\anaconda3\\envs\\daanddevhw3chatbox\\lib\\site-packages (from requests<3,>=2.21.0->tensorboard<2.2.0,>=2.1.0->tensorflow) (2020.4.5.1)\n",
      "Collecting requests-oauthlib>=0.7.0\n",
      "  Using cached requests_oauthlib-1.3.0-py2.py3-none-any.whl (23 kB)\n",
      "Collecting pyasn1>=0.1.3\n",
      "  Using cached pyasn1-0.4.8-py2.py3-none-any.whl (77 kB)\n",
      "Collecting oauthlib>=3.0.0\n",
      "  Using cached oauthlib-3.1.0-py2.py3-none-any.whl (147 kB)\n",
      "Installing collected packages: grpcio, absl-py, astor, gast, numpy, h5py, keras-applications, keras-preprocessing, tensorflow-estimator, wrapt, google-pasta, opt-einsum, termcolor, pyasn1, rsa, pyasn1-modules, cachetools, google-auth, markdown, idna, urllib3, chardet, requests, protobuf, werkzeug, oauthlib, requests-oauthlib, google-auth-oauthlib, tensorboard, scipy, tensorflow\n",
      "Successfully installed absl-py-0.9.0 astor-0.8.1 cachetools-4.1.0 chardet-3.0.4 gast-0.2.2 google-auth-1.14.1 google-auth-oauthlib-0.4.1 google-pasta-0.2.0 grpcio-1.28.1 h5py-2.10.0 idna-2.9 keras-applications-1.0.8 keras-preprocessing-1.1.0 markdown-3.2.1 numpy-1.18.3 oauthlib-3.1.0 opt-einsum-3.2.1 protobuf-3.11.3 pyasn1-0.4.8 pyasn1-modules-0.2.8 requests-2.23.0 requests-oauthlib-1.3.0 rsa-4.0 scipy-1.4.1 tensorboard-2.1.1 tensorflow-2.1.0 tensorflow-estimator-2.1.0 termcolor-1.1.0 urllib3-1.25.9 werkzeug-1.0.1 wrapt-1.12.1\n",
      "Note: you may need to restart the kernel to use updated packages.\n"
     ]
    }
   ],
   "source": [
    "pip install tensorflow"
   ]
  },
  {
   "cell_type": "code",
   "execution_count": 25,
   "metadata": {},
   "outputs": [
    {
     "name": "stdout",
     "output_type": "stream",
     "text": [
      "Collecting nltk\n",
      "  Downloading nltk-3.5.zip (1.4 MB)\n",
      "Collecting click\n",
      "  Downloading click-7.1.2-py2.py3-none-any.whl (82 kB)\n",
      "Collecting joblib\n",
      "  Using cached joblib-0.14.1-py2.py3-none-any.whl (294 kB)\n",
      "Collecting regex\n",
      "  Downloading regex-2020.4.4-cp37-cp37m-win_amd64.whl (271 kB)\n",
      "Collecting tqdm\n",
      "  Downloading tqdm-4.45.0-py2.py3-none-any.whl (60 kB)\n",
      "Building wheels for collected packages: nltk\n",
      "  Building wheel for nltk (setup.py): started\n",
      "  Building wheel for nltk (setup.py): finished with status 'done'\n",
      "  Created wheel for nltk: filename=nltk-3.5-py3-none-any.whl size=1434677 sha256=a89b675ef60f6fc27f85a04b127a7aaeaf1ccd2724fd7f991bb63957317236ae\n",
      "  Stored in directory: c:\\users\\lukel\\appdata\\local\\pip\\cache\\wheels\\45\\6c\\46\\a1865e7ba706b3817f5d1b2ff7ce8996aabdd0d03d47ba0266\n",
      "Successfully built nltk\n",
      "Installing collected packages: click, joblib, regex, tqdm, nltk\n",
      "Successfully installed click-7.1.2 joblib-0.14.1 nltk-3.5 regex-2020.4.4 tqdm-4.45.0\n",
      "Note: you may need to restart the kernel to use updated packages.\n"
     ]
    }
   ],
   "source": [
    "pip install nltk"
   ]
  },
  {
   "cell_type": "code",
   "execution_count": 26,
   "metadata": {},
   "outputs": [
    {
     "name": "stdout",
     "output_type": "stream",
     "text": [
      "Collecting jason\n",
      "  Downloading jason-0.1.7.tar.gz (2.4 kB)\n",
      "Building wheels for collected packages: jason\n",
      "  Building wheel for jason (setup.py): started\n",
      "  Building wheel for jason (setup.py): finished with status 'done'\n",
      "  Created wheel for jason: filename=jason-0.1.7-py3-none-any.whl size=2639 sha256=9d21cf5acfe60f38850dcf7a49419a3f97ca3022f0d17dadfd0be095b5cb4979\n",
      "  Stored in directory: c:\\users\\lukel\\appdata\\local\\pip\\cache\\wheels\\1a\\5d\\55\\8051c6e467334036591b7c685a996d635e2cd3620cd52557d1\n",
      "Successfully built jason\n",
      "Installing collected packages: jason\n",
      "Successfully installed jason-0.1.7\n",
      "Note: you may need to restart the kernel to use updated packages.\n"
     ]
    }
   ],
   "source": [
    "pip install jason"
   ]
  },
  {
   "cell_type": "code",
   "execution_count": 28,
   "metadata": {},
   "outputs": [
    {
     "name": "stdout",
     "output_type": "stream",
     "text": [
      "Collecting pandasNote: you may need to restart the kernel to use updated packages.\n",
      "\n",
      "  Using cached pandas-1.0.3-cp37-cp37m-win_amd64.whl (8.7 MB)\n",
      "Requirement already satisfied: python-dateutil>=2.6.1 in c:\\users\\lukel\\appdata\\local\\continuum\\anaconda3\\envs\\daanddevhw3chatbox\\lib\\site-packages (from pandas) (2.8.1)\n",
      "Requirement already satisfied: numpy>=1.13.3 in c:\\users\\lukel\\appdata\\local\\continuum\\anaconda3\\envs\\daanddevhw3chatbox\\lib\\site-packages (from pandas) (1.18.3)\n",
      "Collecting pytz>=2017.2\n",
      "  Using cached pytz-2020.1-py2.py3-none-any.whl (510 kB)\n",
      "Requirement already satisfied: six>=1.5 in c:\\users\\lukel\\appdata\\local\\continuum\\anaconda3\\envs\\daanddevhw3chatbox\\lib\\site-packages (from python-dateutil>=2.6.1->pandas) (1.14.0)\n",
      "Installing collected packages: pytz, pandas\n",
      "Successfully installed pandas-1.0.3 pytz-2020.1\n"
     ]
    }
   ],
   "source": [
    "pip install pandas"
   ]
  },
  {
   "cell_type": "code",
   "execution_count": 29,
   "metadata": {},
   "outputs": [
    {
     "name": "stdout",
     "output_type": "stream",
     "text": [
      "Collecting matplotlib\n",
      "  Using cached matplotlib-3.2.1-cp37-cp37m-win_amd64.whl (9.2 MB)Note: you may need to restart the kernel to use updated packages.\n",
      "Collecting cycler>=0.10\n",
      "  Using cached cycler-0.10.0-py2.py3-none-any.whl (6.5 kB)\n",
      "\n",
      "Collecting kiwisolver>=1.0.1\n",
      "  Using cached kiwisolver-1.2.0-cp37-none-win_amd64.whl (57 kB)\n",
      "Requirement already satisfied: python-dateutil>=2.1 in c:\\users\\lukel\\appdata\\local\\continuum\\anaconda3\\envs\\daanddevhw3chatbox\\lib\\site-packages (from matplotlib) (2.8.1)\n",
      "Collecting pyparsing!=2.0.4,!=2.1.2,!=2.1.6,>=2.0.1\n",
      "  Using cached pyparsing-2.4.7-py2.py3-none-any.whl (67 kB)\n",
      "Requirement already satisfied: numpy>=1.11 in c:\\users\\lukel\\appdata\\local\\continuum\\anaconda3\\envs\\daanddevhw3chatbox\\lib\\site-packages (from matplotlib) (1.18.3)\n",
      "Requirement already satisfied: six in c:\\users\\lukel\\appdata\\local\\continuum\\anaconda3\\envs\\daanddevhw3chatbox\\lib\\site-packages (from cycler>=0.10->matplotlib) (1.14.0)\n",
      "Installing collected packages: cycler, kiwisolver, pyparsing, matplotlib\n",
      "Successfully installed cycler-0.10.0 kiwisolver-1.2.0 matplotlib-3.2.1 pyparsing-2.4.7\n"
     ]
    }
   ],
   "source": [
    "pip install matplotlib"
   ]
  },
  {
   "cell_type": "code",
   "execution_count": 33,
   "metadata": {},
   "outputs": [
    {
     "name": "stdout",
     "output_type": "stream",
     "text": [
      "Requirement already satisfied: nltk in c:\\users\\lukel\\appdata\\local\\continuum\\anaconda3\\envs\\daanddevhw3chatbox\\lib\\site-packages (3.5)\n",
      "Requirement already satisfied: joblib in c:\\users\\lukel\\appdata\\local\\continuum\\anaconda3\\envs\\daanddevhw3chatbox\\lib\\site-packages (from nltk) (0.14.1)\n",
      "Requirement already satisfied: click in c:\\users\\lukel\\appdata\\local\\continuum\\anaconda3\\envs\\daanddevhw3chatbox\\lib\\site-packages (from nltk) (7.1.2)\n",
      "Requirement already satisfied: tqdm in c:\\users\\lukel\\appdata\\local\\continuum\\anaconda3\\envs\\daanddevhw3chatbox\\lib\\site-packages (from nltk) (4.45.0)\n",
      "Requirement already satisfied: regex in c:\\users\\lukel\\appdata\\local\\continuum\\anaconda3\\envs\\daanddevhw3chatbox\\lib\\site-packages (from nltk) (2020.4.4)\n",
      "Note: you may need to restart the kernel to use updated packages.\n"
     ]
    }
   ],
   "source": [
    "pip install nltk"
   ]
  },
  {
   "cell_type": "code",
   "execution_count": 38,
   "metadata": {},
   "outputs": [
    {
     "name": "stdout",
     "output_type": "stream",
     "text": [
      "showing info https://raw.githubusercontent.com/nltk/nltk_data/gh-pages/index.xml\n",
      "showing info https://raw.githubusercontent.com/nltk/nltk_data/gh-pages/index.xml\n"
     ]
    },
    {
     "data": {
      "text/plain": [
       "True"
      ]
     },
     "execution_count": 38,
     "metadata": {},
     "output_type": "execute_result"
    }
   ],
   "source": [
    "nltk.download()"
   ]
  },
  {
   "cell_type": "code",
   "execution_count": 34,
   "metadata": {},
   "outputs": [],
   "source": [
    "import nltk\n",
    "from nltk.stem.lancaster import LancasterStemmer\n",
    "stemmer = LancasterStemmer()\n",
    "import json\n",
    "import numpy\n",
    "import tensorflow\n",
    "import random\n",
    "import tensorflow as tf\n",
    "from tensorflow import keras\n",
    "import pandas as pd\n",
    "import matplotlib.pyplot as plt\n"
   ]
  },
  {
   "cell_type": "markdown",
   "metadata": {},
   "source": [
    "# (1) Extracting Data"
   ]
  },
  {
   "cell_type": "code",
   "execution_count": 39,
   "metadata": {},
   "outputs": [
    {
     "name": "stdout",
     "output_type": "stream",
     "text": [
      "id    doc_y      <--------  doc_x\n",
      "-----------------------------\n",
      "0 greeting  <---------  ['Hi']\n",
      "1 greeting  <---------  ['How', 'are', 'you']\n",
      "2 greeting  <---------  ['Is', 'anyone', 'there', '?']\n",
      "3 greeting  <---------  ['Hello']\n",
      "4 greeting  <---------  ['Good', 'day']\n",
      "5 goodbye  <---------  ['Bye']\n",
      "6 goodbye  <---------  ['Bye', 'bye']\n",
      "7 goodbye  <---------  ['Bye-Bye']\n",
      "8 goodbye  <---------  ['See', 'you', 'later']\n",
      "9 goodbye  <---------  ['Goodbye']\n",
      "10 thanks  <---------  ['Thanks']\n",
      "11 thanks  <---------  ['Thank', 'you']\n",
      "12 thanks  <---------  ['That', \"'s\", 'helpful']\n",
      "13 hours  <---------  ['What', 'hours', 'are', 'you', 'open', '?']\n",
      "14 hours  <---------  ['What', 'are', 'your', 'hours', '?']\n",
      "15 hours  <---------  ['When', 'are', 'you', 'open', '?']\n",
      "16 payments  <---------  ['Do', 'you', 'take', 'credit', 'cards', '?']\n",
      "17 payments  <---------  ['Do', 'you', 'accept', 'Mastercard', '?']\n",
      "18 payments  <---------  ['Are', 'you', 'cash', 'only', '?']\n",
      "19 opentoday  <---------  ['Are', 'you', 'open', 'today', '?']\n",
      "20 opentoday  <---------  ['When', 'do', 'you', 'open', 'today', '?']\n",
      "21 opentoday  <---------  ['What', 'are', 'your', 'hours', 'today', '?']\n",
      "22 weather  <---------  ['how', 'the', 'weather', 'like', 'today', '?']\n",
      "23 weather  <---------  ['do', 'we', 'have', 'a', 'sunny', 'day', '?']\n",
      "24 weather  <---------  ['do', 'we', 'have', 'a', 'raining', 'today', '?']\n",
      "\n",
      " all words in the documents:\n",
      " ['Hi', 'How', 'are', 'you', 'Is', 'anyone', 'there', '?', 'Hello', 'Good', 'day', 'Bye', 'Bye', 'bye', 'Bye-Bye', 'See', 'you', 'later', 'Goodbye', 'Thanks', 'Thank', 'you', 'That', \"'s\", 'helpful', 'What', 'hours', 'are', 'you', 'open', '?', 'What', 'are', 'your', 'hours', '?', 'When', 'are', 'you', 'open', '?', 'Do', 'you', 'take', 'credit', 'cards', '?', 'Do', 'you', 'accept', 'Mastercard', '?', 'Are', 'you', 'cash', 'only', '?', 'Are', 'you', 'open', 'today', '?', 'When', 'do', 'you', 'open', 'today', '?', 'What', 'are', 'your', 'hours', 'today', '?', 'how', 'the', 'weather', 'like', 'today', '?', 'do', 'we', 'have', 'a', 'sunny', 'day', '?', 'do', 'we', 'have', 'a', 'raining', 'today', '?']\n"
     ]
    }
   ],
   "source": [
    "with open('intents.json') as file:\n",
    "    data = json.load(file)\n",
    "\n",
    "# empty list\n",
    "words = []\n",
    "labels = []\n",
    "docs_x = []\n",
    "docs_y = []\n",
    "\n",
    "for intent in data['intents']:\n",
    "    for pattern in intent['patterns']:         # for each pattern\n",
    "        wrds = nltk.word_tokenize(pattern)     # list of all words ['Is', 'anyone', 'there', '?']\n",
    "        words.extend(wrds)                     # form a whole list of string\n",
    "        docs_x.append(wrds)                    # form a list of list\n",
    "        docs_y.append(intent[\"tag\"])           # store tags: list of tag(string) for each pattern\n",
    "\n",
    "\n",
    "    if intent['tag'] not in labels:    \n",
    "        labels.append(intent['tag'])           # tag set(no repeating)\n",
    "        \n",
    "#print doc_x, doc_y\n",
    "print(\"id    doc_y      <--------  doc_x\")\n",
    "print(\"-----------------------------\")\n",
    "for i in range(len(docs_x)):\n",
    "    print(i, docs_y[i] , \" <--------- \",docs_x[i] )\n",
    "\n",
    "# all words\n",
    "print(\"\\n all words in the documents:\\n\", words)"
   ]
  },
  {
   "cell_type": "markdown",
   "metadata": {},
   "source": [
    "# (2) Word Stemming and Bag of Words\n",
    "i.e. Keep,keeps, keeping, kept, => keep"
   ]
  },
  {
   "cell_type": "code",
   "execution_count": 40,
   "metadata": {},
   "outputs": [
    {
     "name": "stdout",
     "output_type": "stream",
     "text": [
      "Total stem words: 40\n",
      "Bag of  words:\n",
      " ['a', 'acceiv', 'anyon', 'ar', 'bye', 'bye-by', 'card', 'cash', 'credit', 'day', 'do', 'good', 'goodby', 'hav', 'hello', 'help', 'hi', 'hour', 'how', 'is', 'lat', 'lik', 'mastercard', 'on', 'op', 'rain', 'see', 'sunny', 'tak', 'thank', 'that', 'the', 'ther', 'today', 'we', 'wea', 'what', 'when', 'yo', 'you']\n",
      "label: ['goodbye', 'greeting', 'hours', 'opentoday', 'payments', 'thanks', 'weather']\n"
     ]
    }
   ],
   "source": [
    "words = [stemmer.stem(w.lower()) for w in words if (w != \"?\" ) ]\n",
    "words = [stemmer.stem(w.lower()) for w in words if (w != \"'s\" ) ]\n",
    "words = sorted(list(set(words))) # remove the repeated words and put in list for sorting\n",
    "\n",
    "labels = sorted(labels)\n",
    "print(\"Total stem words:\", len(words)) # word list like vocab.\n",
    "print(\"Bag of  words:\\n\", words)\n",
    "print(\"label:\",labels)"
   ]
  },
  {
   "cell_type": "markdown",
   "metadata": {},
   "source": [
    "# (3) Encoding Training data and label"
   ]
  },
  {
   "cell_type": "code",
   "execution_count": 41,
   "metadata": {},
   "outputs": [
    {
     "name": "stdout",
     "output_type": "stream",
     "text": [
      "[1, 1, 1, 1, 1, 0, 0, 0, 0, 0, 5, 5, 5, 2, 2, 2, 4, 4, 4, 3, 3, 3, 6, 6, 6]\n"
     ]
    }
   ],
   "source": [
    "# We have a big of word based on our : 40 stem words, bag size = 40\n",
    "# For each question and find its encoding:  \n",
    "#      for example: hello => [ 0 0 0 ... 0 1  0 0 0 0 ... 0] \n",
    "#  \n",
    "# for all 25 examples ==> X data: 25 x 40 \n",
    "\n",
    "\n",
    "# we have seven categorical labels  [0, 1, 2, ... 5, 6]\n",
    "# For all 25 sentences we have y data\n",
    "#   y: [1, 1, 1, 1, 1, 0, 0, 0, 0, 0, 5, 5, 5, 2, 2, 2, 4, 4, 4, 3, 3, 3, 6, 6, 6]\n",
    "\n",
    "X = []\n",
    "y = []\n",
    "\n",
    "for x, doc in enumerate (docs_x ) : # for all questions (total 25 )\n",
    "                                \n",
    "    bag = []         # finally, it is 40 long wiht some 1 and 0 for each sentence\n",
    "    wrds = [stemmer.stem(w.lower()) for w in doc]   # each word in a question \n",
    "\n",
    "    for w in words:  # scan the stem words one by one\n",
    "        if w in wrds:\n",
    "            bag.append(1)\n",
    "        else:\n",
    "            bag.append(0)\n",
    "    X.append(bag)\n",
    "    y.append( labels.index(docs_y[x]) )   \n",
    "\n",
    "# print(X)\n",
    "print(y)"
   ]
  },
  {
   "cell_type": "code",
   "execution_count": 42,
   "metadata": {},
   "outputs": [],
   "source": [
    "# DNN model\n",
    "\n",
    "len1 = len(X[0])        # input vector length:   40   (input vector size)\n",
    "len2 = len(labels)      # output numbers: 7  (# of labels) \n",
    "\n",
    "model = keras.models.Sequential()\n",
    "model.add(keras.layers.Dense(50, input_dim=len1, activation='relu'))\n",
    "model.add(keras.layers.Dense(100, activation='relu'))\n",
    "model.add(keras.layers.Dense(len2, activation='softmax'))"
   ]
  },
  {
   "cell_type": "code",
   "execution_count": 43,
   "metadata": {},
   "outputs": [],
   "source": [
    "# we need sparse_categorical_crossentropy to match 7 to 1\n",
    "model.compile(loss=\"sparse_categorical_crossentropy\", optimizer=\"RMSprop\", metrics=[\"accuracy\"])"
   ]
  },
  {
   "cell_type": "code",
   "execution_count": 44,
   "metadata": {},
   "outputs": [
    {
     "name": "stdout",
     "output_type": "stream",
     "text": [
      "Train on 25 samples\n",
      "Epoch 1/50\n",
      "25/25 [==============================] - 0s 10ms/sample - loss: 2.0046 - accuracy: 0.2000\n",
      "Epoch 2/50\n",
      "25/25 [==============================] - 0s 678us/sample - loss: 1.9337 - accuracy: 0.2400\n",
      "Epoch 3/50\n",
      "25/25 [==============================] - 0s 238us/sample - loss: 1.8862 - accuracy: 0.3200\n",
      "Epoch 4/50\n",
      "25/25 [==============================] - 0s 319us/sample - loss: 1.8460 - accuracy: 0.5600\n",
      "Epoch 5/50\n",
      "25/25 [==============================] - 0s 319us/sample - loss: 1.8105 - accuracy: 0.6800\n",
      "Epoch 6/50\n",
      "25/25 [==============================] - 0s 279us/sample - loss: 1.7781 - accuracy: 0.7600\n",
      "Epoch 7/50\n",
      "25/25 [==============================] - 0s 317us/sample - loss: 1.7474 - accuracy: 0.7600\n",
      "Epoch 8/50\n",
      "25/25 [==============================] - 0s 279us/sample - loss: 1.7185 - accuracy: 0.7600\n",
      "Epoch 9/50\n",
      "25/25 [==============================] - 0s 279us/sample - loss: 1.6895 - accuracy: 0.7600\n",
      "Epoch 10/50\n",
      "25/25 [==============================] - 0s 238us/sample - loss: 1.6608 - accuracy: 0.7600\n",
      "Epoch 11/50\n",
      "25/25 [==============================] - 0s 239us/sample - loss: 1.6323 - accuracy: 0.8000\n",
      "Epoch 12/50\n",
      "25/25 [==============================] - 0s 321us/sample - loss: 1.6040 - accuracy: 0.8400\n",
      "Epoch 13/50\n",
      "25/25 [==============================] - 0s 277us/sample - loss: 1.5757 - accuracy: 0.8400\n",
      "Epoch 14/50\n",
      "25/25 [==============================] - 0s 239us/sample - loss: 1.5473 - accuracy: 0.8800\n",
      "Epoch 15/50\n",
      "25/25 [==============================] - 0s 279us/sample - loss: 1.5185 - accuracy: 0.9200\n",
      "Epoch 16/50\n",
      "25/25 [==============================] - 0s 239us/sample - loss: 1.4897 - accuracy: 0.9600\n",
      "Epoch 17/50\n",
      "25/25 [==============================] - 0s 279us/sample - loss: 1.4609 - accuracy: 0.9600\n",
      "Epoch 18/50\n",
      "25/25 [==============================] - 0s 239us/sample - loss: 1.4322 - accuracy: 0.9600\n",
      "Epoch 19/50\n",
      "25/25 [==============================] - 0s 279us/sample - loss: 1.4037 - accuracy: 0.9600\n",
      "Epoch 20/50\n",
      "25/25 [==============================] - 0s 240us/sample - loss: 1.3741 - accuracy: 0.9600\n",
      "Epoch 21/50\n",
      "25/25 [==============================] - 0s 279us/sample - loss: 1.3443 - accuracy: 1.0000\n",
      "Epoch 22/50\n",
      "25/25 [==============================] - 0s 279us/sample - loss: 1.3144 - accuracy: 1.0000\n",
      "Epoch 23/50\n",
      "25/25 [==============================] - 0s 319us/sample - loss: 1.2843 - accuracy: 1.0000\n",
      "Epoch 24/50\n",
      "25/25 [==============================] - 0s 239us/sample - loss: 1.2545 - accuracy: 1.0000\n",
      "Epoch 25/50\n",
      "25/25 [==============================] - 0s 279us/sample - loss: 1.2249 - accuracy: 1.0000\n",
      "Epoch 26/50\n",
      "25/25 [==============================] - 0s 239us/sample - loss: 1.1951 - accuracy: 1.0000\n",
      "Epoch 27/50\n",
      "25/25 [==============================] - 0s 239us/sample - loss: 1.1657 - accuracy: 1.0000\n",
      "Epoch 28/50\n",
      "25/25 [==============================] - 0s 277us/sample - loss: 1.1360 - accuracy: 1.0000\n",
      "Epoch 29/50\n",
      "25/25 [==============================] - 0s 279us/sample - loss: 1.1071 - accuracy: 1.0000\n",
      "Epoch 30/50\n",
      "25/25 [==============================] - 0s 279us/sample - loss: 1.0781 - accuracy: 1.0000\n",
      "Epoch 31/50\n",
      "25/25 [==============================] - 0s 319us/sample - loss: 1.0491 - accuracy: 1.0000\n",
      "Epoch 32/50\n",
      "25/25 [==============================] - 0s 239us/sample - loss: 1.0208 - accuracy: 1.0000\n",
      "Epoch 33/50\n",
      "25/25 [==============================] - 0s 278us/sample - loss: 0.9920 - accuracy: 1.0000\n",
      "Epoch 34/50\n",
      "25/25 [==============================] - 0s 279us/sample - loss: 0.9638 - accuracy: 1.0000\n",
      "Epoch 35/50\n",
      "25/25 [==============================] - 0s 239us/sample - loss: 0.9359 - accuracy: 1.0000\n",
      "Epoch 36/50\n",
      "25/25 [==============================] - 0s 319us/sample - loss: 0.9078 - accuracy: 1.0000\n",
      "Epoch 37/50\n",
      "25/25 [==============================] - 0s 239us/sample - loss: 0.8800 - accuracy: 1.0000\n",
      "Epoch 38/50\n",
      "25/25 [==============================] - 0s 279us/sample - loss: 0.8527 - accuracy: 1.0000\n",
      "Epoch 39/50\n",
      "25/25 [==============================] - 0s 279us/sample - loss: 0.8256 - accuracy: 1.0000\n",
      "Epoch 40/50\n",
      "25/25 [==============================] - 0s 279us/sample - loss: 0.7992 - accuracy: 1.0000\n",
      "Epoch 41/50\n",
      "25/25 [==============================] - 0s 279us/sample - loss: 0.7731 - accuracy: 1.0000\n",
      "Epoch 42/50\n",
      "25/25 [==============================] - 0s 279us/sample - loss: 0.7474 - accuracy: 1.0000\n",
      "Epoch 43/50\n",
      "25/25 [==============================] - 0s 238us/sample - loss: 0.7223 - accuracy: 1.0000\n",
      "Epoch 44/50\n",
      "25/25 [==============================] - 0s 279us/sample - loss: 0.6976 - accuracy: 1.0000\n",
      "Epoch 45/50\n",
      "25/25 [==============================] - 0s 278us/sample - loss: 0.6733 - accuracy: 1.0000\n",
      "Epoch 46/50\n",
      "25/25 [==============================] - 0s 238us/sample - loss: 0.6494 - accuracy: 1.0000\n",
      "Epoch 47/50\n",
      "25/25 [==============================] - 0s 280us/sample - loss: 0.6261 - accuracy: 1.0000\n",
      "Epoch 48/50\n",
      "25/25 [==============================] - 0s 237us/sample - loss: 0.6032 - accuracy: 1.0000\n",
      "Epoch 49/50\n",
      "25/25 [==============================] - 0s 280us/sample - loss: 0.5809 - accuracy: 1.0000\n",
      "Epoch 50/50\n",
      "25/25 [==============================] - 0s 279us/sample - loss: 0.5591 - accuracy: 1.0000\n"
     ]
    },
    {
     "data": {
      "image/png": "[encoded data removed]",
      "text/plain": [
       "<Figure size 576x360 with 1 Axes>"
      ]
     },
     "metadata": {
      "needs_background": "light"
     },
     "output_type": "display_data"
    }
   ],
   "source": [
    "#train\n",
    "history = model.fit(X, y, epochs=50, verbose = 1)\n",
    "pd.DataFrame(history.history['accuracy']).plot(figsize=(8, 5), legend = False, title =  \"accuracy\")\n",
    "plt.show()"
   ]
  },
  {
   "cell_type": "code",
   "execution_count": 45,
   "metadata": {},
   "outputs": [],
   "source": [
    "# purpose:  encode a new test input sentence into a vector\n",
    "# input:    s = sentence, words=bag of words\n",
    "# return:   bag = encoded vectore of input sentence s \n",
    "\n",
    "\n",
    "def bag_of_words(s, words):\n",
    "    bag = [0 for _ in range(len(words))]\n",
    "\n",
    "    s_words = nltk.word_tokenize(s)\n",
    "    s_words = [stemmer.stem(word.lower()) for word in s_words]\n",
    "\n",
    "    for se in s_words:\n",
    "        for i, w in enumerate(words):\n",
    "            if w == se:\n",
    "                bag[i] = 1\n",
    "            \n",
    "    return bag\n"
   ]
  },
  {
   "cell_type": "code",
   "execution_count": 47,
   "metadata": {},
   "outputs": [
    {
     "name": "stdout",
     "output_type": "stream",
     "text": [
      "Start type in your question (type quit to stop)!\n",
      "You: Hello\n",
      " -- MACHINE: Hello,what can I do for you\n",
      "You: Do you take credit cards?\n",
      " -- MACHINE: We accept most major credit cards\n",
      "You: Are you open today?\n",
      " -- MACHINE: Our hours are 9am-9pm every day\n",
      "You: how the weather like today?\n",
      " -- MACHINE: we will have a georgeous day!\n",
      "You: Thank you\n",
      " -- MACHINE: My pleasure\n",
      "You: Bye\n",
      " -- MACHINE: bye bye\n",
      "You: quit\n"
     ]
    }
   ],
   "source": [
    "# driver\n",
    "def chat():\n",
    "    print(\"Start type in your question (type quit to stop)!\")\n",
    "    while True:\n",
    "        inp = input(\"You: \")\n",
    "        if inp.lower() == \"quit\":\n",
    "            break\n",
    "\n",
    "        results_index = model.predict_classes([bag_of_words(inp, words)] )\n",
    "        tag_caller = labels[results_index[0]]\n",
    "\n",
    "        found = False\n",
    "        for tg in data[\"intents\"]:\n",
    "            if tg['tag'] == tag_caller:\n",
    "                responses = tg['responses']\n",
    "                print(\" -- MACHINE:\", random.choice(responses))\n",
    "                found = True\n",
    "                break\n",
    "        if(not(found)):\n",
    "            print(\" -- MACHINE: not sure what you mean. Try again\")\n",
    "            \n",
    "\n",
    "if __name__ == \"__main__\":\n",
    "    chat()"
   ]
  },
  {
   "cell_type": "markdown",
   "metadata": {},
   "source": [
    "# REF\n",
    "\n",
    "https:\n",
    "https://techwithtim.net/tutorials/ai-chatbot/part-1/\n",
    "\n",
    "vid 1-4\n",
    "https://www.youtube.com/watch?v=wypVcNIH6D4\n",
    "\n",
    "vid 5\n",
    "https://www.youtube.com/watch?v=jBXAi-Vm_-g\n",
    "\n",
    "  "
   ]
  },
  {
   "cell_type": "markdown",
   "metadata": {},
   "source": [
    "# end Text-ML-text"
   ]
  },
  {
   "attachments": {
    "image.png": {
     "image/png": "[encoded data removed]"
    }
   },
   "cell_type": "markdown",
   "metadata": {},
   "source": [
    "# (C)Text file  to Voice\n",
    "\n",
    "![image.png](attachment:image.png)"
   ]
  },
  {
   "cell_type": "code",
   "execution_count": 48,
   "metadata": {},
   "outputs": [
    {
     "name": "stdout",
     "output_type": "stream",
     "text": [
      "Collecting gTTS\n",
      "  Downloading gTTS-2.1.1-py3-none-any.whl (25 kB)\n",
      "Requirement already satisfied: six in c:\\users\\lukel\\appdata\\local\\continuum\\anaconda3\\envs\\daanddevhw3chatbox\\lib\\site-packages (from gTTS) (1.14.0)\n",
      "Collecting gtts-token>=1.1.3\n",
      "  Downloading gTTS-token-1.1.3.tar.gz (3.4 kB)\n",
      "Collecting beautifulsoup4\n",
      "  Downloading beautifulsoup4-4.9.0-py3-none-any.whl (109 kB)\n",
      "Requirement already satisfied: requests in c:\\users\\lukel\\appdata\\local\\continuum\\anaconda3\\envs\\daanddevhw3chatbox\\lib\\site-packages (from gTTS) (2.23.0)\n",
      "Requirement already satisfied: click in c:\\users\\lukel\\appdata\\local\\continuum\\anaconda3\\envs\\daanddevhw3chatbox\\lib\\site-packages (from gTTS) (7.1.2)\n",
      "Collecting soupsieve>1.2\n",
      "  Downloading soupsieve-2.0-py2.py3-none-any.whl (32 kB)\n",
      "Requirement already satisfied: certifi>=2017.4.17 in c:\\users\\lukel\\appdata\\local\\continuum\\anaconda3\\envs\\daanddevhw3chatbox\\lib\\site-packages (from requests->gTTS) (2020.4.5.1)\n",
      "Requirement already satisfied: idna<3,>=2.5 in c:\\users\\lukel\\appdata\\local\\continuum\\anaconda3\\envs\\daanddevhw3chatbox\\lib\\site-packages (from requests->gTTS) (2.9)\n",
      "Requirement already satisfied: chardet<4,>=3.0.2 in c:\\users\\lukel\\appdata\\local\\continuum\\anaconda3\\envs\\daanddevhw3chatbox\\lib\\site-packages (from requests->gTTS) (3.0.4)\n",
      "Requirement already satisfied: urllib3!=1.25.0,!=1.25.1,<1.26,>=1.21.1 in c:\\users\\lukel\\appdata\\local\\continuum\\anaconda3\\envs\\daanddevhw3chatbox\\lib\\site-packages (from requests->gTTS) (1.25.9)\n",
      "Building wheels for collected packages: gtts-token\n",
      "  Building wheel for gtts-token (setup.py): started\n",
      "  Building wheel for gtts-token (setup.py): finished with status 'done'\n",
      "  Created wheel for gtts-token: filename=gTTS_token-1.1.3-py3-none-any.whl size=4100 sha256=5531ae2eff2868a58974d9193f4097ac81c6e1ab898a913717e45b38eb276e0a\n",
      "  Stored in directory: c:\\users\\lukel\\appdata\\local\\pip\\cache\\wheels\\c1\\78\\25\\81270af5521d88ea8db7da5d4f64872673976eb9692bcb0c13\n",
      "Successfully built gtts-token\n",
      "Installing collected packages: gtts-token, soupsieve, beautifulsoup4, gTTS\n",
      "Successfully installed beautifulsoup4-4.9.0 gTTS-2.1.1 gtts-token-1.1.3 soupsieve-2.0\n",
      "Note: you may need to restart the kernel to use updated packages.\n"
     ]
    }
   ],
   "source": [
    "pip install gTTS"
   ]
  },
  {
   "cell_type": "code",
   "execution_count": 49,
   "metadata": {},
   "outputs": [
    {
     "name": "stdout",
     "output_type": "stream",
     "text": [
      "Collecting playsoundNote: you may need to restart the kernel to use updated packages.\n",
      "\n",
      "  Downloading playsound-1.2.2-py2.py3-none-any.whl (6.0 kB)\n",
      "Installing collected packages: playsound\n",
      "Successfully installed playsound-1.2.2\n"
     ]
    }
   ],
   "source": [
    "pip install playsound"
   ]
  },
  {
   "cell_type": "code",
   "execution_count": 50,
   "metadata": {},
   "outputs": [],
   "source": [
    "# google text to speech"
   ]
  },
  {
   "cell_type": "code",
   "execution_count": 51,
   "metadata": {},
   "outputs": [
    {
     "name": "stdout",
     "output_type": "stream",
     "text": [
      "Note: you may need to restart the kernel to use updated packages.\n"
     ]
    },
    {
     "name": "stderr",
     "output_type": "stream",
     "text": [
      "ERROR: Could not find a version that satisfies the requirement os (from versions: none)\n",
      "ERROR: No matching distribution found for os\n"
     ]
    }
   ],
   "source": [
    "pip install os"
   ]
  },
  {
   "cell_type": "code",
   "execution_count": 58,
   "metadata": {},
   "outputs": [],
   "source": [
    "# Import the required module for text \n",
    "# to speech conversion\n",
    "from gtts import gTTS\n",
    "from playsound import playsound\n",
    "import os\n",
    "\n",
    "file = open(\"log.txt\")\n",
    "mytalk = file.read()\n",
    "\n",
    "# Language in which you want to convert\n",
    "language = 'en'\n",
    "myobj = gTTS(text=mytalk, lang=language, slow=False)\n",
    "\n",
    "# Saving the converted audio in a mp3 file named\n",
    "myobj.save(\"talk.mp3\")\n",
    "\n",
    "# Playing the converted file\n",
    "playsound(\"talk.mp3\")\n",
    "\n",
    "#remove this mp3 for next time save with same  file name\n",
    "os.remove(\"talk.mp3\")"
   ]
  },
  {
   "cell_type": "code",
   "execution_count": 54,
   "metadata": {},
   "outputs": [],
   "source": [
    "# REF:\n",
    "# https://cbsetoday.com/text-to-speech-converter-python-code/\n",
    "# https://www.geeksforgeeks.org/convert-text-speech-python /"
   ]
  },
  {
   "cell_type": "code",
   "execution_count": 12,
   "metadata": {},
   "outputs": [],
   "source": [
    "#END of text file to voice"
   ]
  }
 ],
 "metadata": {
  "kernelspec": {
   "display_name": "Python 3",
   "language": "python",
   "name": "python3"
  },
  "language_info": {
   "codemirror_mode": {
    "name": "ipython",
    "version": 3
   },
   "file_extension": ".py",
   "mimetype": "text/x-python",
   "name": "python",
   "nbconvert_exporter": "python",
   "pygments_lexer": "ipython3",
   "version": "3.7.7"
  }
 },
 "nbformat": 4,
 "nbformat_minor": 4
}
